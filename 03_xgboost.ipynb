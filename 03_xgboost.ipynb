{
  "nbformat": 4,
  "nbformat_minor": 0,
  "metadata": {
    "colab": {
      "provenance": [],
      "toc_visible": true,
      "include_colab_link": true
    },
    "kernelspec": {
      "name": "python3",
      "display_name": "Python 3"
    },
    "language_info": {
      "name": "python"
    }
  },
  "cells": [
    {
      "cell_type": "markdown",
      "metadata": {
        "id": "view-in-github",
        "colab_type": "text"
      },
      "source": [
        "<a href=\"https://colab.research.google.com/github/efrat-dev/ai-code-notebooks/blob/main/03_xgboost.ipynb\" target=\"_parent\"><img src=\"https://colab.research.google.com/assets/colab-badge.svg\" alt=\"Open In Colab\"/></a>"
      ]
    },
    {
      "cell_type": "markdown",
      "source": [
        "# Imports"
      ],
      "metadata": {
        "id": "DJXCNu_TgpaI"
      }
    },
    {
      "cell_type": "code",
      "source": [
        "import numpy as np\n",
        "import pandas as pd\n",
        "import random\n",
        "import gdown\n",
        "import xgboost as xgb\n",
        "from sklearn.metrics import (\n",
        "    classification_report, confusion_matrix, roc_auc_score,\n",
        "    roc_curve, precision_recall_curve, average_precision_score,\n",
        "    fbeta_score, precision_score, recall_score\n",
        ")\n",
        "import matplotlib.pyplot as plt\n",
        "import seaborn as sns"
      ],
      "metadata": {
        "id": "lm0EzSPTgrhF"
      },
      "execution_count": 1,
      "outputs": []
    },
    {
      "cell_type": "markdown",
      "source": [
        "# Seed"
      ],
      "metadata": {
        "id": "Mj-oROp2gtGf"
      }
    },
    {
      "cell_type": "code",
      "source": [
        "SEED = 42\n",
        "random.seed(SEED)\n",
        "np.random.seed(SEED)"
      ],
      "metadata": {
        "id": "qpeLG1G8gwZT"
      },
      "execution_count": 2,
      "outputs": []
    },
    {
      "cell_type": "markdown",
      "source": [
        "# Download and load files"
      ],
      "metadata": {
        "id": "0JCDIu48gxpP"
      }
    },
    {
      "cell_type": "code",
      "source": [
        "file_ids = {\n",
        "    'train': '12p0bNMpieaZ6yoPS-BI71QA_oz7t708i',\n",
        "    'test':  '18r_G-VF2mjD3ZsGdKOLKFQ6lO5ptSZ_y',\n",
        "    'val':   '1hShE7wkL0d9BE5AVdKgfV68adyCE_jy5',\n",
        "    'lstm':  '1OeYY16SnH8w5YX7VbUvozO_ZYVFR8pRD',\n",
        "    'forest':'1LVdDbjTDmGRYlQ7QO1zOmiKaQtOpvoWd'\n",
        "}\n",
        "\n",
        "def download_file(file_id, filename):\n",
        "    url = f'https://drive.google.com/uc?id={file_id}'\n",
        "    gdown.download(url, filename, quiet=False)\n",
        "\n",
        "download_file(file_ids['train'], 'train_processed_lstm.csv')\n",
        "download_file(file_ids['test'],  'test_processed_lstm.csv')\n",
        "download_file(file_ids['val'],   'val_processed_lstm.csv')\n",
        "download_file(file_ids['lstm'],  'lstm_scores_all_splits.csv')\n",
        "download_file(file_ids['forest'],'if_score_per_employee.csv')\n",
        "\n",
        "# Action files (action/day level) — each split separately\n",
        "actions_train = pd.read_csv(\"train_processed_lstm.csv\")\n",
        "actions_test  = pd.read_csv(\"test_processed_lstm.csv\")\n",
        "actions_val   = pd.read_csv(\"val_processed_lstm.csv\")\n",
        "\n",
        "# Employee-level scores\n",
        "df_lstm = pd.read_csv(\"lstm_scores_all_splits.csv\")\n",
        "try:\n",
        "    df_iso = pd.read_csv(\"if_score_per_employee.csv\")\n",
        "except FileNotFoundError:\n",
        "    df_iso = pd.DataFrame(columns=[\"employee_id\", \"if_employee_score\"])"
      ],
      "metadata": {
        "colab": {
          "base_uri": "https://localhost:8080/"
        },
        "id": "U5IQfGH0gyWh",
        "outputId": "a5708a8a-eaee-4ec5-aadf-678c1170eff3"
      },
      "execution_count": 3,
      "outputs": [
        {
          "output_type": "stream",
          "name": "stderr",
          "text": [
            "Downloading...\n",
            "From (original): https://drive.google.com/uc?id=12p0bNMpieaZ6yoPS-BI71QA_oz7t708i\n",
            "From (redirected): https://drive.google.com/uc?id=12p0bNMpieaZ6yoPS-BI71QA_oz7t708i&confirm=t&uuid=d5477188-85c0-4fc2-8cf3-61602a9da6dc\n",
            "To: /content/train_processed_lstm.csv\n",
            "100%|██████████| 396M/396M [00:05<00:00, 78.8MB/s]\n",
            "Downloading...\n",
            "From (original): https://drive.google.com/uc?id=18r_G-VF2mjD3ZsGdKOLKFQ6lO5ptSZ_y\n",
            "From (redirected): https://drive.google.com/uc?id=18r_G-VF2mjD3ZsGdKOLKFQ6lO5ptSZ_y&confirm=t&uuid=774818cd-39c5-43da-9565-3058c7baa6ec\n",
            "To: /content/test_processed_lstm.csv\n",
            "100%|██████████| 132M/132M [00:02<00:00, 62.2MB/s]\n",
            "Downloading...\n",
            "From (original): https://drive.google.com/uc?id=1hShE7wkL0d9BE5AVdKgfV68adyCE_jy5\n",
            "From (redirected): https://drive.google.com/uc?id=1hShE7wkL0d9BE5AVdKgfV68adyCE_jy5&confirm=t&uuid=9d6cad36-f8e6-4454-99bf-ff91a4cceb7b\n",
            "To: /content/val_processed_lstm.csv\n",
            "100%|██████████| 132M/132M [00:02<00:00, 58.3MB/s]\n",
            "Downloading...\n",
            "From: https://drive.google.com/uc?id=1OeYY16SnH8w5YX7VbUvozO_ZYVFR8pRD\n",
            "To: /content/lstm_scores_all_splits.csv\n",
            "100%|██████████| 52.0k/52.0k [00:00<00:00, 22.3MB/s]\n",
            "Downloading...\n",
            "From: https://drive.google.com/uc?id=1LVdDbjTDmGRYlQ7QO1zOmiKaQtOpvoWd\n",
            "To: /content/if_score_per_employee.csv\n",
            "100%|██████████| 38.7k/38.7k [00:00<00:00, 36.2MB/s]\n"
          ]
        }
      ]
    },
    {
      "cell_type": "markdown",
      "source": [
        "# Aggregation to employee level"
      ],
      "metadata": {
        "id": "qx45FYxyg5KP"
      }
    },
    {
      "cell_type": "code",
      "source": [
        "# Aggregation to employee level (no set mixing)\n",
        "\n",
        "THRESHOLD = 0.2  # \"At least 20%\" is considered malicious\n",
        "\n",
        "static_cols = [\n",
        "    'employee_id',\n",
        "    'employee_seniority_years',\n",
        "    'employee_department_freq',\n",
        "    'employee_position_freq',\n",
        "    'employee_campus_cat_Campus A',\n",
        "    'employee_campus_cat_Campus B',\n",
        "    'employee_campus_cat_Campus C',\n",
        "    'is_contractor_binary',\n",
        "    'employee_classification_freq',\n",
        "    'has_foreign_citizenship_binary',\n",
        "    'has_criminal_record_binary',\n",
        "    'has_medical_history_binary',\n",
        "    'is_new_employee_binary',\n",
        "    'is_veteran_employee_binary'\n",
        "]\n",
        "\n",
        "def build_employee_level_df(actions_df):\n",
        "    # Malicious action ratio per employee within the current split only\n",
        "    employee_risk = actions_df.groupby('employee_id')['is_malicious'].mean().reset_index()\n",
        "    employee_risk = employee_risk.rename(columns={'is_malicious': 'risk_ratio'})\n",
        "    employee_risk['is_malicious'] = (employee_risk['risk_ratio'] >= THRESHOLD).astype(int)\n",
        "\n",
        "    # Static columns — first row per employee\n",
        "    df_static = actions_df[static_cols].drop_duplicates(subset='employee_id', keep='first')\n",
        "\n",
        "    # Merges\n",
        "    df_emp = pd.merge(df_static, employee_risk[['employee_id', 'is_malicious']], on='employee_id', how='inner')\n",
        "    df_emp = pd.merge(df_emp, df_lstm[['employee_id', 'lstm_score']], on='employee_id', how='inner')\n",
        "    df_emp = pd.merge(df_emp, df_iso[['employee_id', 'if_employee_score']], on='employee_id', how='left')\n",
        "    if 'if_employee_score' not in df_emp.columns:\n",
        "        df_emp['if_employee_score'] = -1\n",
        "    else:\n",
        "        df_emp['if_employee_score'] = df_emp['if_employee_score'].fillna(-1)\n",
        "\n",
        "    employee_risk = employee_risk.drop(columns=['risk_ratio'])\n",
        "    return df_emp\n",
        "\n",
        "# Build employee-level data for each split separately (no re-split)\n",
        "train_df = build_employee_level_df(actions_train)\n",
        "val_df   = build_employee_level_df(actions_val)\n",
        "test_df  = build_employee_level_df(actions_test)\n",
        "\n",
        "# Save to files\n",
        "train_df.to_csv(\"xgboost_train.csv\", index=False)\n",
        "val_df.to_csv(\"xgboost_val.csv\", index=False)\n",
        "test_df.to_csv(\"xgboost_test.csv\", index=False)\n",
        "print(\" SAVED xgboost_train.csv / xgboost_val.csv / xgboost_test.csv\")"
      ],
      "metadata": {
        "colab": {
          "base_uri": "https://localhost:8080/"
        },
        "id": "rglVF106hIpc",
        "outputId": "d3020726-6fc6-48c9-f214-10c88e9db027"
      },
      "execution_count": 4,
      "outputs": [
        {
          "output_type": "stream",
          "name": "stdout",
          "text": [
            " SAVED xgboost_train.csv / xgboost_val.csv / xgboost_test.csv\n"
          ]
        }
      ]
    },
    {
      "cell_type": "markdown",
      "source": [
        "# Train XGBoost"
      ],
      "metadata": {
        "id": "xHGd7BQXhS2b"
      }
    },
    {
      "cell_type": "markdown",
      "source": [
        "## Simple XGBoost Model (V1)"
      ],
      "metadata": {
        "id": "-61uwqwruqeF"
      }
    },
    {
      "cell_type": "code",
      "source": [
        "# Simple XGBoost Baseline (No Optimization)\n",
        "import xgboost as xgb\n",
        "import numpy as np\n",
        "from sklearn.metrics import classification_report, precision_score, recall_score, f1_score, fbeta_score\n",
        "import pandas as pd\n",
        "\n",
        "print(\"=== SIMPLE XGBOOST BASELINE (NO OPTIMIZATION) ===\\n\")\n",
        "\n",
        "X_train = train_df.drop(columns=['employee_id', 'is_malicious'])\n",
        "y_train = train_df['is_malicious']\n",
        "X_val   = val_df.drop(columns=['employee_id', 'is_malicious'])\n",
        "y_val   = val_df['is_malicious']\n",
        "X_test  = test_df.drop(columns=['employee_id', 'is_malicious'])\n",
        "y_test  = test_df['is_malicious']\n",
        "\n",
        "dtrain_simple = xgb.DMatrix(X_train, label=y_train)\n",
        "dval_simple   = xgb.DMatrix(X_val,   label=y_val)\n",
        "dtest_simple  = xgb.DMatrix(X_test,  label=y_test)\n",
        "\n",
        "simple_params = {\n",
        "    'objective': 'binary:logistic',\n",
        "    'eval_metric': 'logloss',\n",
        "    'seed': 42\n",
        "}\n",
        "\n",
        "print(\"Training Simple XGBoost with default parameters. Parameters used:\", simple_params)\n",
        "\n",
        "simple_booster = xgb.train(\n",
        "    simple_params,\n",
        "    dtrain_simple,\n",
        "    num_boost_round=100,\n",
        "    evals=[(dtrain_simple, 'train'), (dval_simple, 'val')],\n",
        "    verbose_eval=20\n",
        ")"
      ],
      "metadata": {
        "colab": {
          "base_uri": "https://localhost:8080/"
        },
        "id": "IXR-_rZ6ut3t",
        "outputId": "8fe3fd8a-360e-49b0-e304-e535a7235f43"
      },
      "execution_count": 13,
      "outputs": [
        {
          "output_type": "stream",
          "name": "stdout",
          "text": [
            "=== SIMPLE XGBOOST BASELINE (NO OPTIMIZATION) ===\n",
            "\n",
            "Training Simple XGBoost with default parameters. Parameters used: {'objective': 'binary:logistic', 'eval_metric': 'logloss', 'seed': 42}\n",
            "[0]\ttrain-logloss:0.10509\tval-logloss:0.09019\n",
            "[20]\ttrain-logloss:0.01438\tval-logloss:0.06465\n",
            "[40]\ttrain-logloss:0.00899\tval-logloss:0.06504\n",
            "[60]\ttrain-logloss:0.00689\tval-logloss:0.06706\n",
            "[80]\ttrain-logloss:0.00605\tval-logloss:0.06829\n",
            "[99]\ttrain-logloss:0.00548\tval-logloss:0.06923\n"
          ]
        }
      ]
    },
    {
      "cell_type": "markdown",
      "source": [
        "## Improved XGBoost Model (V2)"
      ],
      "metadata": {
        "id": "y0lwl6WhvoDk"
      }
    },
    {
      "cell_type": "code",
      "source": [
        "# Train XGBoost with xgb.train + early stopping\n",
        "\n",
        "X_train = train_df.drop(columns=['employee_id', 'is_malicious'])\n",
        "y_train = train_df['is_malicious']\n",
        "X_val   = val_df.drop(columns=['employee_id', 'is_malicious'])\n",
        "y_val   = val_df['is_malicious']\n",
        "X_test  = test_df.drop(columns=['employee_id', 'is_malicious'])\n",
        "y_test  = test_df['is_malicious']\n",
        "\n",
        "dtrain = xgb.DMatrix(X_train, label=y_train, feature_names=X_train.columns.tolist())\n",
        "dval   = xgb.DMatrix(X_val,   label=y_val,   feature_names=X_val.columns.tolist())\n",
        "dtest  = xgb.DMatrix(X_test,  label=y_test,  feature_names=X_test.columns.tolist())\n",
        "\n",
        "params = dict(\n",
        "    objective='binary:logistic',\n",
        "    eval_metric='logloss',\n",
        "    max_depth=4,\n",
        "    eta=0.1,\n",
        "    subsample=0.8,\n",
        "    colsample_bytree=0.8,\n",
        "    seed=SEED\n",
        ")\n",
        "\n",
        "booster = xgb.train(\n",
        "    params,\n",
        "    dtrain,\n",
        "    num_boost_round=1000,\n",
        "    evals=[(dtrain, 'train'), (dval, 'eval')],\n",
        "    early_stopping_rounds=10,\n",
        "    verbose_eval=True\n",
        ")\n",
        "\n",
        "best_iter = getattr(booster, \"best_iteration\", None)"
      ],
      "metadata": {
        "colab": {
          "base_uri": "https://localhost:8080/"
        },
        "id": "-UljHrPfhTSf",
        "outputId": "a0615ef8-779b-4267-d18b-b4258b535ee1"
      },
      "execution_count": 5,
      "outputs": [
        {
          "output_type": "stream",
          "name": "stdout",
          "text": [
            "[0]\ttrain-logloss:0.18729\teval-logloss:0.15688\n",
            "[1]\ttrain-logloss:0.15526\teval-logloss:0.12887\n",
            "[2]\ttrain-logloss:0.13777\teval-logloss:0.11432\n",
            "[3]\ttrain-logloss:0.12929\teval-logloss:0.11006\n",
            "[4]\ttrain-logloss:0.11742\teval-logloss:0.09993\n",
            "[5]\ttrain-logloss:0.10702\teval-logloss:0.09207\n",
            "[6]\ttrain-logloss:0.09932\teval-logloss:0.08567\n",
            "[7]\ttrain-logloss:0.09471\teval-logloss:0.08228\n",
            "[8]\ttrain-logloss:0.08820\teval-logloss:0.07727\n",
            "[9]\ttrain-logloss:0.08274\teval-logloss:0.07352\n",
            "[10]\ttrain-logloss:0.07967\teval-logloss:0.07190\n",
            "[11]\ttrain-logloss:0.07524\teval-logloss:0.06858\n",
            "[12]\ttrain-logloss:0.07075\teval-logloss:0.06504\n",
            "[13]\ttrain-logloss:0.06711\teval-logloss:0.06264\n",
            "[14]\ttrain-logloss:0.06383\teval-logloss:0.06028\n",
            "[15]\ttrain-logloss:0.06204\teval-logloss:0.05997\n",
            "[16]\ttrain-logloss:0.05964\teval-logloss:0.05802\n",
            "[17]\ttrain-logloss:0.05689\teval-logloss:0.05755\n",
            "[18]\ttrain-logloss:0.05470\teval-logloss:0.05683\n",
            "[19]\ttrain-logloss:0.05258\teval-logloss:0.05639\n",
            "[20]\ttrain-logloss:0.05036\teval-logloss:0.05572\n",
            "[21]\ttrain-logloss:0.04881\teval-logloss:0.05449\n",
            "[22]\ttrain-logloss:0.04723\teval-logloss:0.05421\n",
            "[23]\ttrain-logloss:0.04576\teval-logloss:0.05420\n",
            "[24]\ttrain-logloss:0.04470\teval-logloss:0.05430\n",
            "[25]\ttrain-logloss:0.04364\teval-logloss:0.05371\n",
            "[26]\ttrain-logloss:0.04241\teval-logloss:0.05343\n",
            "[27]\ttrain-logloss:0.04130\teval-logloss:0.05329\n",
            "[28]\ttrain-logloss:0.04015\teval-logloss:0.05297\n",
            "[29]\ttrain-logloss:0.03922\teval-logloss:0.05276\n",
            "[30]\ttrain-logloss:0.03820\teval-logloss:0.05251\n",
            "[31]\ttrain-logloss:0.03694\teval-logloss:0.05203\n",
            "[32]\ttrain-logloss:0.03620\teval-logloss:0.05161\n",
            "[33]\ttrain-logloss:0.03538\teval-logloss:0.05118\n",
            "[34]\ttrain-logloss:0.03460\teval-logloss:0.05108\n",
            "[35]\ttrain-logloss:0.03399\teval-logloss:0.05118\n",
            "[36]\ttrain-logloss:0.03319\teval-logloss:0.05125\n",
            "[37]\ttrain-logloss:0.03254\teval-logloss:0.05155\n",
            "[38]\ttrain-logloss:0.03189\teval-logloss:0.05112\n",
            "[39]\ttrain-logloss:0.03140\teval-logloss:0.05161\n",
            "[40]\ttrain-logloss:0.03083\teval-logloss:0.05146\n",
            "[41]\ttrain-logloss:0.03049\teval-logloss:0.05134\n",
            "[42]\ttrain-logloss:0.02985\teval-logloss:0.05168\n",
            "[43]\ttrain-logloss:0.02943\teval-logloss:0.05194\n",
            "[44]\ttrain-logloss:0.02875\teval-logloss:0.05195\n"
          ]
        }
      ]
    },
    {
      "cell_type": "markdown",
      "source": [
        "# prediction"
      ],
      "metadata": {
        "id": "z4tvyxxIhu6G"
      }
    },
    {
      "cell_type": "markdown",
      "source": [
        "## Simple XGBoost Model (V1)"
      ],
      "metadata": {
        "id": "i8oYKNlrwGfi"
      }
    },
    {
      "cell_type": "code",
      "source": [
        "y_val_proba_simple = simple_booster.predict(dval_simple)\n",
        "y_test_proba_simple = simple_booster.predict(dtest_simple)"
      ],
      "metadata": {
        "id": "qx_B6mnkwNSq"
      },
      "execution_count": 22,
      "outputs": []
    },
    {
      "cell_type": "markdown",
      "source": [
        "## Improved XGBoost Model (V2)"
      ],
      "metadata": {
        "id": "vCExLBz42HOO"
      }
    },
    {
      "cell_type": "code",
      "source": [
        "# Version-compatible prediction: try iteration_range first; if unsupported — regular predict\n",
        "def predict_best(bst, dmat):\n",
        "    try:\n",
        "        if best_iter is not None:\n",
        "            return bst.predict(dmat, iteration_range=(0, best_iter + 1))\n",
        "        return bst.predict(dmat)\n",
        "    except TypeError:\n",
        "        return bst.predict(dmat)\n",
        "\n",
        "y_val_proba  = predict_best(booster, dval)\n",
        "y_test_proba = predict_best(booster, dtest)"
      ],
      "metadata": {
        "id": "TxcTOisWhwaJ"
      },
      "execution_count": 6,
      "outputs": []
    },
    {
      "cell_type": "markdown",
      "source": [
        "# threshold selection"
      ],
      "metadata": {
        "id": "sfwz1ut3h0Vt"
      }
    },
    {
      "cell_type": "markdown",
      "source": [
        "## Simple XGBoost Model (V1)"
      ],
      "metadata": {
        "id": "hGXLOAEq4FVb"
      }
    },
    {
      "cell_type": "code",
      "source": [
        "threshold_simple = 0.5\n",
        "y_val_pred_simple = (y_val_proba_simple >= threshold_simple).astype(int)\n",
        "y_test_pred_simple = (y_test_proba_simple >= threshold_simple).astype(int)"
      ],
      "metadata": {
        "id": "dHxIPpz_wRu8"
      },
      "execution_count": 15,
      "outputs": []
    },
    {
      "cell_type": "markdown",
      "source": [
        "## Improved XGBoost Model (V2)"
      ],
      "metadata": {
        "id": "vy2ochlG4H8A"
      }
    },
    {
      "cell_type": "code",
      "source": [
        "# Generic threshold selection: max F1 with preference for 0.5\n",
        "\n",
        "def choose_threshold_max_f1(y_true, y_score, grid=1001, tol=1e-4, prefer_05=True):\n",
        "    \"\"\"\n",
        "    Selects a threshold that maximizes F1 on the validation set.\n",
        "    If prefer_05=True – choose t=0.5 when F1@0.5 is within tol of the maximum.\n",
        "    Otherwise: among the max-F1 candidates, pick the one with minimal |P-R|, then closest to 0.5.\n",
        "    \"\"\"\n",
        "    thresholds = np.linspace(0, 1, grid)\n",
        "    rows = []\n",
        "    for t in thresholds:\n",
        "        y_pred = (y_score >= t).astype(int)\n",
        "        p = precision_score(y_true, y_pred, zero_division=0)\n",
        "        r = recall_score(y_true, y_pred, zero_division=0)\n",
        "        f1 = fbeta_score(y_true, y_pred, beta=1.0, zero_division=0)\n",
        "        rows.append((t, p, r, f1, abs(p - r), abs(t - 0.5)))\n",
        "    df = pd.DataFrame(rows, columns=['threshold','precision','recall','f1','balance_gap','dist_from_0_5'])\n",
        "\n",
        "    f1_max = df['f1'].max()\n",
        "\n",
        "    # Prefer 0.5 if it's good enough\n",
        "    if prefer_05:\n",
        "        y05 = (y_score >= 0.5).astype(int)\n",
        "        p05 = precision_score(y_true, y05, zero_division=0)\n",
        "        r05 = recall_score(y_true, y05, zero_division=0)\n",
        "        f105 = fbeta_score(y_true, y05, beta=1.0, zero_division=0)\n",
        "        if f105 >= f1_max - tol:\n",
        "            df_sorted = df.sort_values(by=['f1','balance_gap','dist_from_0_5'], ascending=[False, True, True])\n",
        "            return 0.5, df_sorted\n",
        "\n",
        "    # If 0.5 doesn't meet the condition — choose the \"winner\" with tie-breakers\n",
        "    top = df[np.isclose(df['f1'], f1_max, atol=tol)].copy()\n",
        "    top = top.sort_values(by=['balance_gap','dist_from_0_5'], ascending=[True, True])\n",
        "    t_star = float(top.iloc[0]['threshold'])\n",
        "    df_sorted = df.sort_values(by=['f1','balance_gap','dist_from_0_5'], ascending=[False, True, True])\n",
        "    return t_star, df_sorted\n",
        "\n",
        "opt_t, f1_table = choose_threshold_max_f1(y_val, y_val_proba, grid=1001, tol=1e-4, prefer_05=True)\n",
        "print(f\"\\n★ Threshold selected on VALIDATION by max F1 (prefers 0.5): {opt_t:.3f}\")\n",
        "print(\"Top F1 candidates:\\n\", f1_table.head(10))"
      ],
      "metadata": {
        "colab": {
          "base_uri": "https://localhost:8080/"
        },
        "id": "kfr1sbFsh5-z",
        "outputId": "3df57363-8967-4f0f-99ee-4b611d7f8644"
      },
      "execution_count": 23,
      "outputs": [
        {
          "output_type": "stream",
          "name": "stdout",
          "text": [
            "\n",
            "★ Threshold selected on VALIDATION by max F1 (prefers 0.5): 0.426\n",
            "Top F1 candidates:\n",
            "      threshold  precision    recall   f1  balance_gap  dist_from_0_5\n",
            "426      0.426   0.705882  0.923077  0.8     0.217195          0.074\n",
            "425      0.425   0.705882  0.923077  0.8     0.217195          0.075\n",
            "424      0.424   0.705882  0.923077  0.8     0.217195          0.076\n",
            "423      0.423   0.705882  0.923077  0.8     0.217195          0.077\n",
            "422      0.422   0.705882  0.923077  0.8     0.217195          0.078\n",
            "421      0.421   0.705882  0.923077  0.8     0.217195          0.079\n",
            "420      0.420   0.705882  0.923077  0.8     0.217195          0.080\n",
            "419      0.419   0.705882  0.923077  0.8     0.217195          0.081\n",
            "418      0.418   0.705882  0.923077  0.8     0.217195          0.082\n",
            "417      0.417   0.705882  0.923077  0.8     0.217195          0.083\n"
          ]
        }
      ]
    },
    {
      "cell_type": "markdown",
      "source": [
        "# Evaluation"
      ],
      "metadata": {
        "id": "S2o4lIuK3iKs"
      }
    },
    {
      "cell_type": "markdown",
      "source": [
        "## Simple baseline evaluation (V1)"
      ],
      "metadata": {
        "id": "Y5QbYtHe3lw5"
      }
    },
    {
      "cell_type": "code",
      "source": [
        "print(\"\\nVALIDATION SET RESULTS:\")\n",
        "val_report_simple = classification_report(y_val, y_val_pred_simple, digits=3, zero_division=0)\n",
        "print(val_report_simple)\n",
        "\n",
        "print(\"\\nTEST SET RESULTS:\")\n",
        "test_report_simple = classification_report(y_test, y_test_pred_simple, digits=3, zero_division=0)\n",
        "print(test_report_simple)"
      ],
      "metadata": {
        "colab": {
          "base_uri": "https://localhost:8080/"
        },
        "id": "SorUBn193sCa",
        "outputId": "df881637-e8c4-4f9e-e885-fcfae8bb9b80"
      },
      "execution_count": 24,
      "outputs": [
        {
          "output_type": "stream",
          "name": "stdout",
          "text": [
            "\n",
            "VALIDATION SET RESULTS:\n",
            "              precision    recall  f1-score   support\n",
            "\n",
            "           0      0.994     0.985     0.989       323\n",
            "           1      0.688     0.846     0.759        13\n",
            "\n",
            "    accuracy                          0.979       336\n",
            "   macro avg      0.841     0.915     0.874       336\n",
            "weighted avg      0.982     0.979     0.980       336\n",
            "\n",
            "\n",
            "TEST SET RESULTS:\n",
            "              precision    recall  f1-score   support\n",
            "\n",
            "           0      0.997     0.994     0.995       318\n",
            "           1      0.889     0.941     0.914        17\n",
            "\n",
            "    accuracy                          0.991       335\n",
            "   macro avg      0.943     0.967     0.955       335\n",
            "weighted avg      0.991     0.991     0.991       335\n",
            "\n"
          ]
        }
      ]
    },
    {
      "cell_type": "markdown",
      "source": [
        "## Improved evaluation (V2)"
      ],
      "metadata": {
        "id": "aN-k5G4w3wZj"
      }
    },
    {
      "cell_type": "code",
      "source": [
        "# Predictions & reports at the optimal threshold (same threshold for test)\n",
        "y_val_pred_opt  = (y_val_proba  >= opt_t).astype(int)\n",
        "y_test_pred_opt = (y_test_proba >= opt_t).astype(int)\n",
        "\n",
        "print(\"\\nValidation Report @ selected threshold:\")\n",
        "print(classification_report(y_val, y_val_pred_opt, digits=2, zero_division=0))\n",
        "print(\"\\nTest Report @ selected threshold:\")\n",
        "print(classification_report(y_test, y_test_pred_opt, digits=2, zero_division=0))"
      ],
      "metadata": {
        "colab": {
          "base_uri": "https://localhost:8080/"
        },
        "id": "fSYX9WC131lR",
        "outputId": "c7dcb16e-8ec5-4529-9d94-078e4e15e8f7"
      },
      "execution_count": 26,
      "outputs": [
        {
          "output_type": "stream",
          "name": "stdout",
          "text": [
            "\n",
            "Validation Report @ selected threshold:\n",
            "              precision    recall  f1-score   support\n",
            "\n",
            "           0       1.00      0.98      0.99       323\n",
            "           1       0.71      0.92      0.80        13\n",
            "\n",
            "    accuracy                           0.98       336\n",
            "   macro avg       0.85      0.95      0.90       336\n",
            "weighted avg       0.99      0.98      0.98       336\n",
            "\n",
            "\n",
            "Test Report @ selected threshold:\n",
            "              precision    recall  f1-score   support\n",
            "\n",
            "           0       1.00      0.99      1.00       318\n",
            "           1       0.89      1.00      0.94        17\n",
            "\n",
            "    accuracy                           0.99       335\n",
            "   macro avg       0.95      1.00      0.97       335\n",
            "weighted avg       0.99      0.99      0.99       335\n",
            "\n"
          ]
        }
      ]
    },
    {
      "cell_type": "markdown",
      "source": [
        "# ROC, PR, confusion matrices & feature importance"
      ],
      "metadata": {
        "id": "RcKksWtmh9LL"
      }
    },
    {
      "cell_type": "code",
      "source": [
        "# ROC, PR, confusion matrices & feature importance (for illustration)\n",
        "val_conf = confusion_matrix(y_val, y_val_pred_opt)\n",
        "test_conf = confusion_matrix(y_test, y_test_pred_opt)\n",
        "\n",
        "val_auc = roc_auc_score(y_val, y_val_proba)\n",
        "test_auc = roc_auc_score(y_test, y_test_proba)\n",
        "\n",
        "fpr_val, tpr_val, _ = roc_curve(y_val, y_val_proba)\n",
        "fpr_test, tpr_test, _ = roc_curve(y_test, y_test_proba)\n",
        "\n",
        "plt.figure(figsize=(8, 6))\n",
        "plt.plot(fpr_val, tpr_val, label=f'Validation ROC AUC = {val_auc:.2f}')\n",
        "plt.plot(fpr_test, tpr_test, label=f'Test ROC AUC = {test_auc:.2f}')\n",
        "plt.plot([0, 1], [0, 1], 'k--', label='Random')\n",
        "plt.xlabel('False Positive Rate'); plt.ylabel('True Positive Rate')\n",
        "plt.title('ROC Curve'); plt.legend(); plt.grid(True); plt.tight_layout(); plt.show()\n",
        "\n",
        "fig, axes = plt.subplots(1, 2, figsize=(12, 5))\n",
        "sns.heatmap(val_conf, annot=True, fmt='d', cmap='Blues', ax=axes[0])\n",
        "axes[0].set_title(f'Validation Confusion Matrix (t={opt_t:.3f})')\n",
        "axes[0].set_xlabel('Predicted'); axes[0].set_ylabel('Actual')\n",
        "sns.heatmap(test_conf, annot=True, fmt='d', cmap='Greens', ax=axes[1])\n",
        "axes[1].set_title(f'Test Confusion Matrix (t={opt_t:.3f})')\n",
        "axes[1].set_xlabel('Predicted'); axes[1].set_ylabel('Actual')\n",
        "plt.tight_layout(); plt.show()\n",
        "\n",
        "# Feature importance by gain\n",
        "scores = booster.get_score(importance_type='gain')\n",
        "importance_df = pd.DataFrame({\n",
        "    'feature': X_train.columns,\n",
        "    'importance': [scores.get(f, 0.0) for f in X_train.columns]\n",
        "}).sort_values(by='importance', ascending=False)\n",
        "print(\"\\nFeature Importance:\")\n",
        "print(importance_df)\n",
        "\n",
        "# Precision-Recall Curve (on test set)\n",
        "precision, recall, thresholds = precision_recall_curve(y_test, y_test_proba)\n",
        "ap_score = average_precision_score(y_test, y_test_proba)\n",
        "plt.figure(figsize=(8, 6))\n",
        "plt.plot(recall, precision, label=f'PR Curve (AP = {ap_score:.2f})')\n",
        "plt.xlabel('Recall'); plt.ylabel('Precision')\n",
        "plt.title('Precision-Recall Curve (Test Set)')\n",
        "plt.grid(True); plt.legend(); plt.tight_layout(); plt.show()\n",
        "\n",
        "# Optional: print comparison at several fixed thresholds (does not affect selection)\n",
        "thresholds_to_check = [0.2, 0.3, 0.4, 0.5, 0.6]\n",
        "print(\"\\nPerformance on Test Set at Different Fixed Thresholds (for reference):\")\n",
        "for thresh in thresholds_to_check:\n",
        "    preds = (y_test_proba >= thresh).astype(int)\n",
        "    report = classification_report(y_test, preds, output_dict=False, zero_division=0)\n",
        "    print(f\"\\nThreshold = {thresh}\")\n",
        "    print(report)\n"
      ],
      "metadata": {
        "colab": {
          "base_uri": "https://localhost:8080/",
          "height": 1000
        },
        "id": "MFNm5XIFm4Aw",
        "outputId": "5108ec41-c996-4024-cb7c-0324e9026489"
      },
      "execution_count": 9,
      "outputs": [
        {
          "output_type": "display_data",
          "data": {
            "text/plain": [
              "<Figure size 800x600 with 1 Axes>"
            ],
            "image/png": "[encoded data removed]"
          },
          "metadata": {}
        },
        {
          "output_type": "display_data",
          "data": {
            "text/plain": [
              "<Figure size 1200x500 with 4 Axes>"
            ],
            "image/png": "[encoded data removed]"
          },
          "metadata": {}
        },
        {
          "output_type": "stream",
          "name": "stdout",
          "text": [
            "\n",
            "Feature Importance:\n",
            "                           feature  importance\n",
            "13                      lstm_score   13.223083\n",
            "14               if_employee_score    3.630854\n",
            "1         employee_department_freq    3.108964\n",
            "4     employee_campus_cat_Campus B    1.514532\n",
            "2           employee_position_freq    1.382900\n",
            "7     employee_classification_freq    1.079017\n",
            "0         employee_seniority_years    0.979791\n",
            "5     employee_campus_cat_Campus C    0.898142\n",
            "12      is_veteran_employee_binary    0.255581\n",
            "3     employee_campus_cat_Campus A    0.140301\n",
            "6             is_contractor_binary    0.000000\n",
            "10      has_medical_history_binary    0.000000\n",
            "9       has_criminal_record_binary    0.000000\n",
            "8   has_foreign_citizenship_binary    0.000000\n",
            "11          is_new_employee_binary    0.000000\n"
          ]
        },
        {
          "output_type": "display_data",
          "data": {
            "text/plain": [
              "<Figure size 800x600 with 1 Axes>"
            ],
            "image/png": "[encoded data removed]"
          },
          "metadata": {}
        },
        {
          "output_type": "stream",
          "name": "stdout",
          "text": [
            "\n",
            "Performance on Test Set at Different Fixed Thresholds (for reference):\n",
            "\n",
            "Threshold = 0.2\n",
            "              precision    recall  f1-score   support\n",
            "\n",
            "           0       1.00      0.99      0.99       318\n",
            "           1       0.81      1.00      0.89        17\n",
            "\n",
            "    accuracy                           0.99       335\n",
            "   macro avg       0.90      0.99      0.94       335\n",
            "weighted avg       0.99      0.99      0.99       335\n",
            "\n",
            "\n",
            "Threshold = 0.3\n",
            "              precision    recall  f1-score   support\n",
            "\n",
            "           0       1.00      0.99      1.00       318\n",
            "           1       0.89      1.00      0.94        17\n",
            "\n",
            "    accuracy                           0.99       335\n",
            "   macro avg       0.95      1.00      0.97       335\n",
            "weighted avg       0.99      0.99      0.99       335\n",
            "\n",
            "\n",
            "Threshold = 0.4\n",
            "              precision    recall  f1-score   support\n",
            "\n",
            "           0       1.00      0.99      1.00       318\n",
            "           1       0.89      1.00      0.94        17\n",
            "\n",
            "    accuracy                           0.99       335\n",
            "   macro avg       0.95      1.00      0.97       335\n",
            "weighted avg       0.99      0.99      0.99       335\n",
            "\n",
            "\n",
            "Threshold = 0.5\n",
            "              precision    recall  f1-score   support\n",
            "\n",
            "           0       1.00      0.99      1.00       318\n",
            "           1       0.89      0.94      0.91        17\n",
            "\n",
            "    accuracy                           0.99       335\n",
            "   macro avg       0.94      0.97      0.95       335\n",
            "weighted avg       0.99      0.99      0.99       335\n",
            "\n",
            "\n",
            "Threshold = 0.6\n",
            "              precision    recall  f1-score   support\n",
            "\n",
            "           0       0.99      1.00      1.00       318\n",
            "           1       0.94      0.88      0.91        17\n",
            "\n",
            "    accuracy                           0.99       335\n",
            "   macro avg       0.97      0.94      0.95       335\n",
            "weighted avg       0.99      0.99      0.99       335\n",
            "\n"
          ]
        }
      ]
    }
  ]
}