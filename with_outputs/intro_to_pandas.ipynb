{
 "cells": [
  {
   "cell_type": "markdown",
   "id": "bb1a66c6",
   "metadata": {},
   "source": [
    "\n",
    "# Getting Started with pandas 📊\n",
    "\n",
    "Welcome! This notebook will introduce you to `pandas`, a powerful Python library for data manipulation and analysis.\n"
   ]
  },
  {
   "cell_type": "code",
   "execution_count": 1,
   "id": "ead80ea9",
   "metadata": {},
   "outputs": [],
   "source": [
    "\n",
    "import pandas as pd\n",
    "import numpy as np\n"
   ]
  },
  {
   "cell_type": "markdown",
   "id": "f3fe53ee",
   "metadata": {},
   "source": [
    "\n",
    "## What is a Series?\n",
    "\n",
    "A `Series` is a one-dimensional labeled array that can hold data of any type.\n"
   ]
  },
  {
   "cell_type": "code",
   "execution_count": 2,
   "id": "2f4b351c",
   "metadata": {},
   "outputs": [
    {
     "name": "stdout",
     "output_type": "stream",
     "text": [
      "Creating a Series with numbers and a missing value:\n",
      "0    10.0\n",
      "1    20.0\n",
      "2    30.0\n",
      "3     NaN\n",
      "4    50.0\n",
      "dtype: float64\n"
     ]
    }
   ],
   "source": [
    "\n",
    "print(\"Creating a Series with numbers and a missing value:\")\n",
    "numbers = pd.Series([10, 20, 30, np.nan, 50])\n",
    "print(numbers)\n"
   ]
  },
  {
   "cell_type": "markdown",
   "id": "688cfaca",
   "metadata": {},
   "source": [
    "\n",
    "## Creating a DataFrame\n",
    "\n",
    "A `DataFrame` is a 2D table with labeled axes (rows and columns).\n"
   ]
  },
  {
   "cell_type": "code",
   "execution_count": 3,
   "id": "5e66c936",
   "metadata": {},
   "outputs": [
    {
     "name": "stdout",
     "output_type": "stream",
     "text": [
      "Creating a random 3x4 DataFrame with fruit names as columns:\n",
      "   Apples  Bananas  Oranges  Pears\n",
      "0       4       66       60     16\n",
      "1      94       59       65     64\n",
      "2      75        7       78     73\n"
     ]
    }
   ],
   "source": [
    "\n",
    "print(\"Creating a random 3x4 DataFrame with fruit names as columns:\")\n",
    "data = np.random.randint(1, 100, size=(3, 4))\n",
    "df = pd.DataFrame(data, columns=['Apples', 'Bananas', 'Oranges', 'Pears'])\n",
    "print(df)\n"
   ]
  },
  {
   "cell_type": "markdown",
   "id": "d13d8718",
   "metadata": {},
   "source": [
    "\n",
    "## Working with Dates\n",
    "\n",
    "pandas makes working with date ranges simple.\n"
   ]
  },
  {
   "cell_type": "code",
   "execution_count": 4,
   "id": "3025c2ee",
   "metadata": {},
   "outputs": [
    {
     "name": "stdout",
     "output_type": "stream",
     "text": [
      "Creating a DataFrame with a DateTime index:\n",
      "                   X         Y         Z\n",
      "2022-01-01  1.611931 -0.348491  2.119816\n",
      "2022-01-02 -0.010099 -1.378896  1.241710\n",
      "2022-01-03 -0.360585 -0.074946  3.625112\n",
      "2022-01-04 -1.799954  0.323422 -0.482175\n",
      "2022-01-05 -0.272994  0.626908  0.435980\n"
     ]
    }
   ],
   "source": [
    "print(\"Creating a DataFrame with a DateTime index:\")\n",
    "date_index = pd.date_range(start='2022-01-01', periods=5)\n",
    "df_dates = pd.DataFrame(np.random.randn(5, 3), index=date_index, columns=['X', 'Y', 'Z'])\n",
    "print(df_dates)"
   ]
  },
  {
   "cell_type": "markdown",
   "id": "daf36808",
   "metadata": {},
   "source": [
    "\n",
    "## Data Inspection\n",
    "\n",
    "You can view portions of the DataFrame or inspect its structure easily.\n"
   ]
  },
  {
   "cell_type": "code",
   "execution_count": 5,
   "id": "19196697",
   "metadata": {},
   "outputs": [
    {
     "name": "stdout",
     "output_type": "stream",
     "text": [
      "First rows of the DataFrame:\n",
      "   Apples  Bananas  Oranges  Pears\n",
      "0       4       66       60     16\n",
      "1      94       59       65     64\n",
      "2      75        7       78     73\n",
      "Last rows of the DataFrame:\n",
      "   Apples  Bananas  Oranges  Pears\n",
      "0       4       66       60     16\n",
      "1      94       59       65     64\n",
      "2      75        7       78     73\n",
      "Column names in the DataFrame:\n",
      "Index(['Apples', 'Bananas', 'Oranges', 'Pears'], dtype='object')\n"
     ]
    }
   ],
   "source": [
    "print(\"First rows of the DataFrame:\")\n",
    "print(df.head())\n",
    "\n",
    "print(\"Last rows of the DataFrame:\")\n",
    "print(df.tail())\n",
    "\n",
    "print(\"Column names in the DataFrame:\")\n",
    "print(df.columns)"
   ]
  },
  {
   "cell_type": "markdown",
   "id": "20607d3b",
   "metadata": {},
   "source": [
    "\n",
    "## Data Transformation\n",
    "\n",
    "Here we demonstrate how to modify and filter data using pandas.\n"
   ]
  },
  {
   "cell_type": "code",
   "execution_count": 12,
   "id": "f9d0bd5c",
   "metadata": {},
   "outputs": [
    {
     "name": "stdout",
     "output_type": "stream",
     "text": [
      "Adding a new column 'Total' which is the row-wise sum:\n",
      "Sorting the DataFrame by the 'Total' column:\n",
      "   Apples  Bananas  Oranges  Pears  Total  Apples x2   Category\n",
      "0       4       66       60     16    454          8      Fruit\n",
      "2      75        7       78     73    999        150  Vegetable\n",
      "1      94       59       65     64   1222        188      Fruit\n"
     ]
    }
   ],
   "source": [
    "print(\"Adding a new column 'Total' which is the row-wise sum:\")\n",
    "df['Total'] = df.sum(axis=1, numeric_only=True)\n",
    "df\n",
    "\n",
    "print(\"Sorting the DataFrame by the 'Total' column:\")\n",
    "df_sorted = df.sort_values(by='Total')\n",
    "print(df_sorted)"
   ]
  },
  {
   "cell_type": "markdown",
   "id": "6153fd55",
   "metadata": {},
   "source": [
    "\n",
    "## Selecting Rows\n",
    "\n",
    "Use `loc` for label-based access and `iloc` for integer-location access.\n"
   ]
  },
  {
   "cell_type": "code",
   "execution_count": 7,
   "id": "75c24bd1",
   "metadata": {},
   "outputs": [
    {
     "name": "stdout",
     "output_type": "stream",
     "text": [
      "Selecting rows 0 to 1 and columns 1 to 2 using iloc:\n",
      "   Bananas  Oranges\n",
      "0       66       60\n",
      "1       59       65\n"
     ]
    }
   ],
   "source": [
    "print(\"Selecting rows 0 to 1 and columns 1 to 2 using iloc:\")\n",
    "selected = df.iloc[0:2, 1:3]\n",
    "print(selected)"
   ]
  },
  {
   "cell_type": "markdown",
   "id": "c3060122",
   "metadata": {},
   "source": [
    "\n",
    "## Handling Missing Data\n",
    "\n",
    "Missing values are common in real-world datasets. Here's how to detect and handle them.\n"
   ]
  },
  {
   "cell_type": "code",
   "execution_count": 13,
   "id": "28c538dc",
   "metadata": {},
   "outputs": [
    {
     "name": "stdout",
     "output_type": "stream",
     "text": [
      "Creating a copy of the DataFrame and inserting a NaN value:\n",
      "   Apples  Bananas  Oranges  Pears  Total  Apples x2   Category\n",
      "0     NaN       66       60     16    454          8      Fruit\n",
      "1    94.0       59       65     64   1222        188      Fruit\n",
      "2    75.0        7       78     73    999        150  Vegetable\n",
      "Checking where the missing values are:\n",
      "   Apples  Bananas  Oranges  Pears  Total  Apples x2  Category\n",
      "0    True    False    False  False  False      False     False\n",
      "1   False    False    False  False  False      False     False\n",
      "2   False    False    False  False  False      False     False\n",
      "Any missing? True\n"
     ]
    }
   ],
   "source": [
    "print(\"Creating a copy of the DataFrame and inserting a NaN value:\")\n",
    "df_with_nan = df.copy()\n",
    "df_with_nan.iloc[0, 0] = np.nan\n",
    "print(df_with_nan)\n",
    "\n",
    "print(\"Checking where the missing values are:\")\n",
    "print(df_with_nan.isna())\n",
    "\n",
    "print(\"Any missing?\", df_with_nan.isna().any().any())"
   ]
  },
  {
   "cell_type": "markdown",
   "id": "0ba5250d",
   "metadata": {},
   "source": [
    "\n",
    "## Applying Functions\n",
    "\n",
    "You can apply transformations across columns using `.apply()`.\n"
   ]
  },
  {
   "cell_type": "code",
   "execution_count": 14,
   "id": "5365c65f",
   "metadata": {},
   "outputs": [
    {
     "name": "stdout",
     "output_type": "stream",
     "text": [
      "Applying a lambda function to double the 'Apples' column:\n",
      "   Apples  Bananas  Oranges  Pears  Total  Apples x2   Category\n",
      "0       4       66       60     16    454          8      Fruit\n",
      "1      94       59       65     64   1222        188      Fruit\n",
      "2      75        7       78     73    999        150  Vegetable\n"
     ]
    }
   ],
   "source": [
    "print(\"Applying a lambda function to double the 'Apples' column:\")\n",
    "df['Apples x2'] = df['Apples'].apply(lambda x: x * 2)\n",
    "print(df)"
   ]
  },
  {
   "cell_type": "markdown",
   "id": "ff39edd8",
   "metadata": {},
   "source": [
    "\n",
    "## Grouping Data\n",
    "\n",
    "Use `groupby()` to perform operations over subsets of your data.\n"
   ]
  },
  {
   "cell_type": "code",
   "execution_count": 10,
   "id": "6989bc46",
   "metadata": {},
   "outputs": [
    {
     "name": "stdout",
     "output_type": "stream",
     "text": [
      "Grouping rows by 'Category' and calculating the mean of 'Apples' and 'Bananas':\n",
      "           Apples  Bananas\n",
      "Category                  \n",
      "Fruit        49.0     62.5\n",
      "Vegetable    75.0      7.0\n"
     ]
    }
   ],
   "source": [
    "print(\"Grouping rows by 'Category' and calculating the mean of 'Apples' and 'Bananas':\")\n",
    "df['Category'] = ['Fruit', 'Fruit', 'Vegetable']\n",
    "print(df.groupby('Category')[['Apples', 'Bananas']].mean())"
   ]
  }
 ],
 "metadata": {
  "kernelspec": {
   "display_name": "Python 3",
   "language": "python",
   "name": "python3"
  },
  "language_info": {
   "codemirror_mode": {
    "name": "ipython",
    "version": 3
   },
   "file_extension": ".py",
   "mimetype": "text/x-python",
   "name": "python",
   "nbconvert_exporter": "python",
   "pygments_lexer": "ipython3",
   "version": "3.9.12"
  }
 },
 "nbformat": 4,
 "nbformat_minor": 5
}
