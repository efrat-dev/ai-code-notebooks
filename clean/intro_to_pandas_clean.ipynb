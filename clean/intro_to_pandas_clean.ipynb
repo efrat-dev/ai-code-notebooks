{
 "cells": [
  {
   "cell_type": "markdown",
   "id": "bb1a66c6",
   "metadata": {},
   "source": [
    "\n",
    "# Getting Started with pandas 📊\n",
    "\n",
    "Welcome! This notebook will introduce you to `pandas`, a powerful Python library for data manipulation and analysis.\n"
   ]
  },
  {
   "cell_type": "code",
   "execution_count": null,
   "id": "ead80ea9",
   "metadata": {},
   "outputs": [],
   "source": [
    "\n",
    "import pandas as pd\n",
    "import numpy as np\n"
   ]
  },
  {
   "cell_type": "markdown",
   "id": "f3fe53ee",
   "metadata": {},
   "source": [
    "\n",
    "## What is a Series?\n",
    "\n",
    "A `Series` is a one-dimensional labeled array that can hold data of any type.\n"
   ]
  },
  {
   "cell_type": "code",
   "execution_count": null,
   "id": "2f4b351c",
   "metadata": {},
   "outputs": [],
   "source": [
    "\n",
    "print(\"Creating a Series with numbers and a missing value:\")\n",
    "numbers = pd.Series([10, 20, 30, np.nan, 50])\n",
    "print(numbers)\n"
   ]
  },
  {
   "cell_type": "markdown",
   "id": "688cfaca",
   "metadata": {},
   "source": [
    "\n",
    "## Creating a DataFrame\n",
    "\n",
    "A `DataFrame` is a 2D table with labeled axes (rows and columns).\n"
   ]
  },
  {
   "cell_type": "code",
   "execution_count": null,
   "id": "5e66c936",
   "metadata": {},
   "outputs": [],
   "source": [
    "\n",
    "print(\"Creating a random 3x4 DataFrame with fruit names as columns:\")\n",
    "data = np.random.randint(1, 100, size=(3, 4))\n",
    "df = pd.DataFrame(data, columns=['Apples', 'Bananas', 'Oranges', 'Pears'])\n",
    "print(df)\n"
   ]
  },
  {
   "cell_type": "markdown",
   "id": "d13d8718",
   "metadata": {},
   "source": [
    "\n",
    "## Working with Dates\n",
    "\n",
    "pandas makes working with date ranges simple.\n"
   ]
  },
  {
   "cell_type": "code",
   "execution_count": null,
   "id": "3025c2ee",
   "metadata": {},
   "outputs": [],
   "source": [
    "\n",
    "\n",
    "print(\"Creating a DataFrame with a DateTime index:\")\n",
    "date_index = pd.date_range(start='2022-01-01', periods=5)\n",
    "df_dates = pd.DataFrame(np.random.randn(5, 3), index=date_index, columns=['X', 'Y', 'Z'])\n",
    "print(df_dates)"
   ]
  },
  {
   "cell_type": "markdown",
   "id": "daf36808",
   "metadata": {},
   "source": [
    "\n",
    "## Data Inspection\n",
    "\n",
    "You can view portions of the DataFrame or inspect its structure easily.\n"
   ]
  },
  {
   "cell_type": "code",
   "execution_count": null,
   "id": "19196697",
   "metadata": {},
   "outputs": [],
   "source": [
    "print(\"First rows of the DataFrame:\")\n",
    "print(df.head())\n",
    "\n",
    "print(\"Last rows of the DataFrame:\")\n",
    "print(df.tail())\n",
    "\n",
    "print(\"Column names in the DataFrame:\")\n",
    "print(df.columns)"
   ]
  },
  {
   "cell_type": "markdown",
   "id": "20607d3b",
   "metadata": {},
   "source": [
    "\n",
    "## Data Transformation\n",
    "\n",
    "Here we demonstrate how to modify and filter data using pandas.\n"
   ]
  },
  {
   "cell_type": "code",
   "execution_count": null,
   "id": "f9d0bd5c",
   "metadata": {},
   "outputs": [],
   "source": [
    "print(\"Adding a new column 'Total' which is the row-wise sum:\")\n",
    "df['Total'] = df.sum(axis=1)\n",
    "\n",
    "print(\"Sorting the DataFrame by the 'Total' column:\")\n",
    "df_sorted = df.sort_values(by='Total')\n",
    "print(df_sorted)"
   ]
  },
  {
   "cell_type": "markdown",
   "id": "6153fd55",
   "metadata": {},
   "source": [
    "\n",
    "## Selecting Rows\n",
    "\n",
    "Use `loc` for label-based access and `iloc` for integer-location access.\n"
   ]
  },
  {
   "cell_type": "code",
   "execution_count": null,
   "id": "75c24bd1",
   "metadata": {},
   "outputs": [],
   "source": [
    "print(\"Selecting rows 0 to 1 and columns 1 to 2 using iloc:\")\n",
    "selected = df.iloc[0:2, 1:3]\n",
    "print(selected)"
   ]
  },
  {
   "cell_type": "markdown",
   "id": "c3060122",
   "metadata": {},
   "source": [
    "\n",
    "## Handling Missing Data\n",
    "\n",
    "Missing values are common in real-world datasets. Here's how to detect and handle them.\n"
   ]
  },
  {
   "cell_type": "code",
   "execution_count": null,
   "id": "28c538dc",
   "metadata": {},
   "outputs": [],
   "source": [
    "print(\"Creating a copy of the DataFrame and inserting a NaN value:\")\n",
    "df_with_nan = df.copy()\n",
    "df_with_nan.iloc[0, 0] = np.nan\n",
    "\n",
    "print(\"Checking where the missing values are:\")\n",
    "print(df_with_nan.isna())\n",
    "\n",
    "print(\"Any missing?\", df_with_nan.isna().any().any())"
   ]
  },
  {
   "cell_type": "markdown",
   "id": "0ba5250d",
   "metadata": {},
   "source": [
    "\n",
    "## Applying Functions\n",
    "\n",
    "You can apply transformations across columns using `.apply()`.\n"
   ]
  },
  {
   "cell_type": "code",
   "execution_count": null,
   "id": "5365c65f",
   "metadata": {},
   "outputs": [],
   "source": [
    "print(\"Applying a lambda function to double the 'Apples' column:\")\n",
    "df['Apples x2'] = df['Apples'].apply(lambda x: x * 2)\n",
    "print(df)"
   ]
  },
  {
   "cell_type": "markdown",
   "id": "ff39edd8",
   "metadata": {},
   "source": [
    "\n",
    "## Grouping Data\n",
    "\n",
    "Use `groupby()` to perform operations over subsets of your data.\n"
   ]
  },
  {
   "cell_type": "code",
   "execution_count": null,
   "id": "6989bc46",
   "metadata": {},
   "outputs": [],
   "source": [
    "print(\"Grouping rows by 'Category' and calculating the mean of 'Apples' and 'Bananas':\")\n",
    "df['Category'] = ['Fruit', 'Fruit', 'Vegetable']\n",
    "print(df.groupby('Category')[['Apples', 'Bananas']].mean())"
   ]
  }
 ],
 "metadata": {
  "kernelspec": {
   "display_name": "Python 3",
   "language": "python",
   "name": "python3"
  },
  "language_info": {
   "codemirror_mode": {
    "name": "ipython",
    "version": 3
   },
   "file_extension": ".py",
   "mimetype": "text/x-python",
   "name": "python",
   "nbconvert_exporter": "python",
   "pygments_lexer": "ipython3",
   "version": "3.10.7"
  }
 },
 "nbformat": 4,
 "nbformat_minor": 5
}
